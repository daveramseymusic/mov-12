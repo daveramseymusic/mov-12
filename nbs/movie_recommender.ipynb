{
 "cells": [
  {
   "cell_type": "markdown",
   "id": "43ba360b",
   "metadata": {},
   "source": [
    "# This is Dave's Movie Recommender\n",
    "> Type in your favorite movie and the model will return a list of similar movies."
   ]
  },
  {
   "cell_type": "code",
   "execution_count": null,
   "id": "58ae8828",
   "metadata": {},
   "outputs": [],
   "source": [
    "#| default_exp movie_recommender"
   ]
  },
  {
   "cell_type": "markdown",
   "id": "11126279",
   "metadata": {},
   "source": [
    "[Fastai](https://youtu.be/p4ZZq0736Po?t=3724) is the library we use to train, load and run our model.  NB: we already trained our model so we'll only be loading it here."
   ]
  },
  {
   "cell_type": "code",
   "execution_count": null,
   "id": "0723c96f",
   "metadata": {},
   "outputs": [
    {
     "data": {
      "text/plain": [
       "2"
      ]
     },
     "execution_count": null,
     "metadata": {},
     "output_type": "execute_result"
    }
   ],
   "source": [
    "1+1"
   ]
  },
  {
   "cell_type": "code",
   "execution_count": null,
   "id": "48cc27a8",
   "metadata": {},
   "outputs": [],
   "source": [
    "# !pip install -Uqq fastai "
   ]
  },
  {
   "cell_type": "markdown",
   "id": "787ee3b3",
   "metadata": {},
   "source": [
    "[Gradio](https://gradio.app/getting_started/) allows you to easily publish your model onto the web for peope to use."
   ]
  },
  {
   "cell_type": "code",
   "execution_count": null,
   "id": "bd77e8fe",
   "metadata": {},
   "outputs": [],
   "source": [
    "# !pip install gradio"
   ]
  },
  {
   "cell_type": "markdown",
   "id": "8027e733",
   "metadata": {},
   "source": [
    "[nbdev](https://nbdev.fast.ai/tutorials/tutorial.html) is what we're using to make this documentation easier and more presentable."
   ]
  },
  {
   "cell_type": "code",
   "execution_count": null,
   "id": "2ebe467e",
   "metadata": {},
   "outputs": [],
   "source": [
    "# !pip install nbdev"
   ]
  },
  {
   "cell_type": "code",
   "execution_count": null,
   "id": "af11e277",
   "metadata": {},
   "outputs": [],
   "source": [
    "# For modeling\n",
    "from fastai.tabular.all import *\n",
    "from fastai.collab import *\n",
    "#for publishing the model\n",
    "import gradio as gr"
   ]
  },
  {
   "cell_type": "code",
   "execution_count": null,
   "id": "119bb17f",
   "metadata": {},
   "outputs": [],
   "source": [
    "#| hide\n",
    "path = Path('/Users/davidramsey/Documents/coding/mov12/models_and_dls')"
   ]
  },
  {
   "cell_type": "code",
   "execution_count": null,
   "id": "c9f70e47",
   "metadata": {},
   "outputs": [],
   "source": [
    "#load your the model and data loaders\n",
    "learn = load_learner(path/'model_movie_predictor_large9mil_ds_19_062.pkl')\n",
    "dls = torch.load(path/'movie_9mil_03_dls')"
   ]
  },
  {
   "cell_type": "code",
   "execution_count": null,
   "id": "7916b400",
   "metadata": {},
   "outputs": [],
   "source": [
    "#| export\n",
    "def get_movie_recs(full_title):\n",
    "    \"This function will use the `nn.CosineSimilarity` on the 50 latent factors for each movie to find the 30 movies most similar to your favorite movie.\"\n",
    "    movie_factors = learn.model.i_weight.weight\n",
    "    idx = dls.classes['title'].o2i[full_title]\n",
    "    distances =  nn.CosineSimilarity(dim=1)(movie_factors,movie_factors[idx][None])\n",
    "    idx = distances.argsort(descending=True)\n",
    "    return [o for o in dls.classes['title'][idx][:30]]"
   ]
  },
  {
   "cell_type": "code",
   "execution_count": null,
   "id": "3518bfee",
   "metadata": {},
   "outputs": [],
   "source": [
    "#| export\n",
    "def search_movies(favorite_movie):\n",
    "    movies_found = ''\n",
    "    s = favorite_movie.lower()\n",
    "    #remove THE from the title\n",
    "    if s[:4] == 'the ':\n",
    "        s = s[4:]\n",
    "\n",
    "    lst = dls.classes['title']\n",
    "    index = []\n",
    "    i=0\n",
    "    length = len(lst)\n",
    "    while i<length:\n",
    "        if s in lst[i].lower():\n",
    "            full_title = lst[i]\n",
    "            movies_found+= str(full_title) +'\\n'\n",
    "#             print(f'Your Favorite Movies:  {full_title}')\n",
    "        i+=1\n",
    "    # write explaination in case multiple movies\n",
    "    explainer = f'If there are multiple movies above: Please paste your favorite movie into the \"favorite_movie\" box.\\n The box below is currently showing recommendations for the movie:  {full_title}'\n",
    "    #print movies found and explainer\n",
    "    output_str =  movies_found+'\\n\\n'+explainer\n",
    "    \n",
    "    #get recommendations from model\n",
    "    recommendations = get_movie_recs(full_title) \n",
    "    #create list of all the recommendations to print\n",
    "    print_lst = ''\n",
    "    for o in recommendations:    print_lst =print_lst+str(o) + '\\n'\n",
    "    \n",
    "    \n",
    "#     return  f'Will Recommend for:  {full_title}', output_str, recomendations\n",
    "    return output_str, f'Recommendations for {full_title}: \\n\\n {print_lst}'"
   ]
  },
  {
   "cell_type": "code",
   "execution_count": null,
   "id": "b31a5548",
   "metadata": {},
   "outputs": [],
   "source": [
    "# intf = gr.Interface(fn=search_movies,\n",
    "#                     inputs=gr.Textbox(lines=1,placeholder=\"Put Your Favorite Movie Here To See Similar Movie Recommendations...\"),\n",
    "#                     outputs=[\"text\",\"text\"],\n",
    "#                     examples=['Child\\'s Play (1988)','Rushmore','brothers Bloom','call me by your name', 'Jumanji (1995)','The Three Amigos'],\n",
    "#                     title=\"Dave's Fast.AI Movie Recommender\",\n",
    "#                     article='This recommender uses a collaborative filtering model fashioned from the [Fast.AI](https://github.com/fastai/fastbook/blob/master/08_collab.ipynb) library and trained on the 9 million movie reviews from the [Movie Lense Dataset](https://grouplens.org/datasets/movielens/25m/).  It trains Latent Factors to give movies and users descriptive weights that help predict thier reivews based on these factors.  The model was trained completely WITHOUT titles, descriptions, or categories and amazingly these things can be added to imporove this model.  Enjoy!'                    \n",
    "# )\n",
    "# # intf.launch(\n",
    "# #     inline=False, #True publishes the page in notebook\n",
    "# #     share=False) #True temporarily publishes the app on gradio website for 72 hours"
   ]
  },
  {
   "cell_type": "code",
   "execution_count": null,
   "id": "bb433792",
   "metadata": {},
   "outputs": [],
   "source": [
    "# movie_input = 'Buffalo Soldiers (2001)'\n",
    "# ft = search_movies(movie_input)"
   ]
  },
  {
   "cell_type": "code",
   "execution_count": null,
   "id": "8f816389",
   "metadata": {},
   "outputs": [],
   "source": [
    "# get_movie_recs(movie_input)"
   ]
  },
  {
   "cell_type": "code",
   "execution_count": null,
   "id": "8bf92c4d",
   "metadata": {},
   "outputs": [],
   "source": [
    "#| hide\n",
    "import nbdev; nbdev.nbdev_export()"
   ]
  },
  {
   "cell_type": "code",
   "execution_count": null,
   "id": "be0138f5",
   "metadata": {},
   "outputs": [],
   "source": []
  },
  {
   "cell_type": "code",
   "execution_count": null,
   "id": "cc35f1a8",
   "metadata": {},
   "outputs": [],
   "source": []
  }
 ],
 "metadata": {
  "kernelspec": {
   "display_name": "Python 3",
   "language": "python",
   "name": "python3"
  }
 },
 "nbformat": 4,
 "nbformat_minor": 5
}
